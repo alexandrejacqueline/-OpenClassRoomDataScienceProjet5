{
 "cells": [
  {
   "cell_type": "code",
   "execution_count": 38,
   "metadata": {},
   "outputs": [
    {
     "name": "stdout",
     "output_type": "stream",
     "text": [
      "Populating the interactive namespace from numpy and matplotlib\n"
     ]
    }
   ],
   "source": [
    "import os\n",
    "\n",
    "import pandas as pd\n",
    "import numpy as np\n",
    "\n",
    "import matplotlib\n",
    "import matplotlib.pyplot as plt\n",
    "import seaborn as sns\n",
    "\n",
    "from datetime import date\n",
    "from datetime import timedelta\n",
    "from datetime import datetime\n",
    "\n",
    "import sklearn\n",
    "from sklearn.preprocessing import FunctionTransformer\n",
    "from sklearn.preprocessing import StandardScaler\n",
    "from sklearn.cluster import KMeans\n",
    "from sklearn.metrics.cluster import adjusted_rand_score\n",
    "\n",
    "import yellowbrick\n",
    "from yellowbrick.cluster import KElbowVisualizer\n",
    "from yellowbrick.cluster import SilhouetteVisualizer\n",
    "\n",
    "\n",
    "\n",
    "#always remember your magic function if using Jupyter\n",
    "%matplotlib inline\n",
    "\n",
    "%pylab inline\n",
    "\n",
    "pd.set_option('display.max_columns', 200)\n",
    "pd.set_option('display.max_rows', 1000)\n",
    "os.chdir('/Users/alexandrejacqueline/Data_Science/P5_DATA')\n",
    "\n",
    "data  = pd.read_csv('data.csv', sep=',')\n",
    "\n",
    "\n",
    "data[\"order_total_cost\"] = data[\"price\"]+data[\"freight_value\"]"
   ]
  },
  {
   "cell_type": "code",
   "execution_count": 39,
   "metadata": {},
   "outputs": [],
   "source": [
    "data = data[(data['order_purchase_timestamp'] > \"2017-01-01\")]"
   ]
  },
  {
   "cell_type": "code",
   "execution_count": 40,
   "metadata": {},
   "outputs": [],
   "source": [
    "# Par défaut, on va se placer 6 mois avant la dernière commande\n",
    "def choix_df(data, date_debut=date(2017, 1, 1),\n",
    "             date_fin=date(2017, 6, 29)):\n",
    "    \"\"\"\n",
    "    Prend un Dataframe qui va être filtrer selon la date de début\n",
    "    et la date de fin indiquées en paramètres. Les colonnes du\n",
    "    dataframe seront groupées selon certaines fonctions (moyenne,\n",
    "    somme, compter et minimum). Enfin, ajoute une colonne\n",
    "    correspondant à la fréquence d'achat d'un client sur la\n",
    "    période étudiée.\n",
    "\n",
    "            Parameters:\n",
    "                data : dataframe à utiliser\n",
    "                date_debut (date object) : date de début du filtrage\n",
    "                date_fin (date object) : date de fin du filtrage\n",
    "    \"\"\"\n",
    "    data = df0.copy()\n",
    "\n",
    "    # On commence par ne garder que la période qui nous intéresse\n",
    "    data = data[(data['order_purchase_timestamp'] >= date_debut)\n",
    "                & (data['order_purchase_timestamp'] <= date_fin)]\n",
    "\n",
    "    # Date de la dernière commande du jeu de données\n",
    "    jour_max = data['order_purchase_timestamp'].max()\n",
    "\n",
    "    # Date de la première commande du jeu de données\n",
    "    jour_min = data['order_purchase_timestamp'].min()\n",
    "\n",
    "    # Nombre de jour au total\n",
    "    nb_jours = (jour_max - jour_min).days\n",
    "\n",
    "    # Temps entre la commande du client et la dernière date du jeu de données\n",
    "    data['time_delta'] = (data['order_purchase_timestamp'].max()\n",
    "                          - data['order_purchase_timestamp'])\n",
    "\n",
    "    # On transforme \"time_delta\" pour n'avoir que les jours en nombres entiers\n",
    "    data['time_delta'] = data['time_delta'].dt.days\n",
    "\n",
    "    # On crée les colonnes que l'on veut\n",
    "    data = (data.groupby('customer_unique_id').agg(\n",
    "        nb_commandes=('order_id', 'count'), score_moy=('review_score',\n",
    "                                                       'mean'),\n",
    "        nb_paiements=('payment_installments', 'mean'),\n",
    "        nb_produits=('order_item_id', 'mean'),\n",
    "        recence=('time_delta', 'min'),\n",
    "        montant_total=('order_total_cost', 'sum')))\n",
    "\n",
    "    # On veut des nombres entiers pour certaines colonnes\n",
    "    for col in ['score_moy', 'nb_paiements', 'nb_produits']:\n",
    "        data[col] = data[col].astype(int)\n",
    "\n",
    "    # On crée une colonne de fréquence d'achat\n",
    "    data['frequence_achat'] = round(data['nb_commandes'] / nb_jours, 4)\n",
    "\n",
    "    return(data)\n"
   ]
  },
  {
   "cell_type": "code",
   "execution_count": 41,
   "metadata": {},
   "outputs": [],
   "source": [
    "# Preprocessing\n",
    "def preprocessing(data):\n",
    "    \"\"\"\n",
    "    Prend un DataFrame et passe les colonnes les plus concentrées sur des\n",
    "    faibles valeurs au logarithme. Prend ensuite toutes les features numériques\n",
    "    pour les centrer (on soustrait la moyenne de la feature) et les réduire\n",
    "    (diviser par l'écart-type de la feature) à l'aide d'un StandardScaler.\n",
    "\n",
    "            Parameters:\n",
    "                data : DataFrame à utiliser\n",
    "    \"\"\"\n",
    "    # On passe quelques colonnes au log\n",
    "    transformer = FunctionTransformer(func=np.log, inverse_func=np.exp)\n",
    "\n",
    "    cols_to_log = ['nb_commandes', 'nb_paiements', 'nb_produits',\n",
    "                   'montant_total', 'frequence_achat']\n",
    "\n",
    "    for col in cols_to_log:\n",
    "        data[col] = transformer.fit_transform(data[col])\n",
    "\n",
    "    # On standardise nos colonnes\n",
    "    cols_to_scale = ['nb_commandes', 'score_moy', 'nb_paiements',\n",
    "                     'nb_produits', 'recence', 'montant_total',\n",
    "                     'frequence_achat']\n",
    "\n",
    "    scaler = StandardScaler()\n",
    "\n",
    "    data[cols_to_scale] = scaler.fit_transform(data[cols_to_scale])"
   ]
  },
  {
   "cell_type": "code",
   "execution_count": 42,
   "metadata": {},
   "outputs": [],
   "source": [
    "\n",
    "\n",
    "# Elbow plot\n",
    "def elbow_k_means(data):\n",
    "    \"\"\"\n",
    "    Prend un Dataframe et lui applique un algorithme de clustering\n",
    "    (k means) pour différents nombres de cluster (entre 2 et 9) et\n",
    "    retourne le temps mis pour appliquer chacun des modèles à nos\n",
    "    données ainsi que la valeur de distortion de chaque clustering sous\n",
    "    la forme de graphique.\n",
    "    La valeur de distortion correspond à la somme des distances au carré\n",
    "    entre un point et le centre de son cluster. Le point d'inflexion\n",
    "    de la courbe sera indiqué (si existant).\n",
    "\n",
    "            Parameters:\n",
    "                data : DataFrame à utiliser\n",
    "    \"\"\"\n",
    "    model = KMeans()\n",
    "    visualizer = KElbowVisualizer(model, k=(2, 10))\n",
    "\n",
    "    visualizer.fit(data)\n",
    "    visualizer.show()\n",
    "\n"
   ]
  },
  {
   "cell_type": "code",
   "execution_count": 43,
   "metadata": {},
   "outputs": [],
   "source": [
    "# Silhouette plot\n",
    "def silhouette_k_means(data, model):\n",
    "    \"\"\"\n",
    "    Prend un Dataframe et lui applique l'algorithme de clustering\n",
    "    souhaité. Calcule la densité de chaque cluster (comprise entre\n",
    "    -1 et 1) en utilisant la coefficient de silhouette de chaque\n",
    "    échantillon. Ce coefficient est la différence entre la distance\n",
    "    moyenne intra-cluster et la distance moyenne avec le cluster\n",
    "    le plus proche pour chaque échantillon, le tout normalisé par la\n",
    "    valeur maximale.\n",
    "\n",
    "            Parameters:\n",
    "                data : DataFrame à utiliser\n",
    "                model : modèle de clustering à appliquer\n",
    "    \"\"\"\n",
    "    visualizer = SilhouetteVisualizer(model, colors='yellowbrick')\n",
    "\n",
    "    visualizer.fit(data)\n",
    "    visualizer.show()"
   ]
  },
  {
   "cell_type": "code",
   "execution_count": 44,
   "metadata": {},
   "outputs": [],
   "source": [
    "df0 = data.drop(columns=['Unnamed: 0'])"
   ]
  },
  {
   "cell_type": "code",
   "execution_count": 77,
   "metadata": {},
   "outputs": [],
   "source": [
    "# On transforme notre colonne de date en datetime\n",
    "df0['order_purchase_timestamp'] = pd.to_datetime(\n",
    "    df0['order_purchase_timestamp'], format='%Y-%m-%d')\n",
    "\n",
    "# On enlève les heures - minutes - secondes, on ne garde que la date\n",
    "df0['order_purchase_timestamp'] = df0['order_purchase_timestamp'].dt.date\n"
   ]
  },
  {
   "cell_type": "code",
   "execution_count": 46,
   "metadata": {},
   "outputs": [
    {
     "data": {
      "text/plain": [
       "datetime.date(2017, 1, 5)"
      ]
     },
     "execution_count": 46,
     "metadata": {},
     "output_type": "execute_result"
    }
   ],
   "source": [
    "df0['order_purchase_timestamp'].min()"
   ]
  },
  {
   "cell_type": "code",
   "execution_count": 36,
   "metadata": {},
   "outputs": [],
   "source": [
    "#df0 = df0.dropna()"
   ]
  },
  {
   "cell_type": "code",
   "execution_count": 47,
   "metadata": {},
   "outputs": [],
   "source": [
    "# Toutes les données sauf les 6 derniers mois\n",
    "df_ini = choix_df(df0)"
   ]
  },
  {
   "cell_type": "code",
   "execution_count": 48,
   "metadata": {},
   "outputs": [
    {
     "data": {
      "text/html": [
       "<div>\n",
       "<style scoped>\n",
       "    .dataframe tbody tr th:only-of-type {\n",
       "        vertical-align: middle;\n",
       "    }\n",
       "\n",
       "    .dataframe tbody tr th {\n",
       "        vertical-align: top;\n",
       "    }\n",
       "\n",
       "    .dataframe thead th {\n",
       "        text-align: right;\n",
       "    }\n",
       "</style>\n",
       "<table border=\"1\" class=\"dataframe\">\n",
       "  <thead>\n",
       "    <tr style=\"text-align: right;\">\n",
       "      <th></th>\n",
       "      <th>nb_commandes</th>\n",
       "      <th>score_moy</th>\n",
       "      <th>nb_paiements</th>\n",
       "      <th>nb_produits</th>\n",
       "      <th>recence</th>\n",
       "      <th>montant_total</th>\n",
       "      <th>frequence_achat</th>\n",
       "    </tr>\n",
       "    <tr>\n",
       "      <th>customer_unique_id</th>\n",
       "      <th></th>\n",
       "      <th></th>\n",
       "      <th></th>\n",
       "      <th></th>\n",
       "      <th></th>\n",
       "      <th></th>\n",
       "      <th></th>\n",
       "    </tr>\n",
       "  </thead>\n",
       "  <tbody>\n",
       "    <tr>\n",
       "      <th>0000f46a3911fa3c0805444483337064</th>\n",
       "      <td>0.0</td>\n",
       "      <td>3</td>\n",
       "      <td>2.079442</td>\n",
       "      <td>0.0</td>\n",
       "      <td>111</td>\n",
       "      <td>4.456902</td>\n",
       "      <td>-5.167289</td>\n",
       "    </tr>\n",
       "    <tr>\n",
       "      <th>0005e1862207bf6ccc02e4228effd9a0</th>\n",
       "      <td>0.0</td>\n",
       "      <td>4</td>\n",
       "      <td>1.098612</td>\n",
       "      <td>0.0</td>\n",
       "      <td>117</td>\n",
       "      <td>5.011435</td>\n",
       "      <td>-5.167289</td>\n",
       "    </tr>\n",
       "    <tr>\n",
       "      <th>00115fc7123b5310cf6d3a3aa932699e</th>\n",
       "      <td>0.0</td>\n",
       "      <td>4</td>\n",
       "      <td>0.000000</td>\n",
       "      <td>0.0</td>\n",
       "      <td>159</td>\n",
       "      <td>4.332180</td>\n",
       "      <td>-5.167289</td>\n",
       "    </tr>\n",
       "  </tbody>\n",
       "</table>\n",
       "</div>"
      ],
      "text/plain": [
       "                                  nb_commandes  score_moy  nb_paiements  \\\n",
       "customer_unique_id                                                        \n",
       "0000f46a3911fa3c0805444483337064           0.0          3      2.079442   \n",
       "0005e1862207bf6ccc02e4228effd9a0           0.0          4      1.098612   \n",
       "00115fc7123b5310cf6d3a3aa932699e           0.0          4      0.000000   \n",
       "\n",
       "                                  nb_produits  recence  montant_total  \\\n",
       "customer_unique_id                                                      \n",
       "0000f46a3911fa3c0805444483337064          0.0      111       4.456902   \n",
       "0005e1862207bf6ccc02e4228effd9a0          0.0      117       5.011435   \n",
       "00115fc7123b5310cf6d3a3aa932699e          0.0      159       4.332180   \n",
       "\n",
       "                                  frequence_achat  \n",
       "customer_unique_id                                 \n",
       "0000f46a3911fa3c0805444483337064        -5.167289  \n",
       "0005e1862207bf6ccc02e4228effd9a0        -5.167289  \n",
       "00115fc7123b5310cf6d3a3aa932699e        -5.167289  "
      ]
     },
     "execution_count": 48,
     "metadata": {},
     "output_type": "execute_result"
    }
   ],
   "source": [
    "# On passe quelques colonnes au log\n",
    "transformer_ini = FunctionTransformer(func=np.log, inverse_func=np.exp)\n",
    "\n",
    "cols_to_log = ['nb_commandes', 'nb_paiements', 'nb_produits',\n",
    "               'montant_total', 'frequence_achat']\n",
    "\n",
    "for col in cols_to_log:\n",
    "    df_ini[col] = transformer_ini.fit_transform(df_ini[col])\n",
    "\n",
    "df_ini.head(3)"
   ]
  },
  {
   "cell_type": "code",
   "execution_count": 49,
   "metadata": {},
   "outputs": [
    {
     "data": {
      "text/html": [
       "<div>\n",
       "<style scoped>\n",
       "    .dataframe tbody tr th:only-of-type {\n",
       "        vertical-align: middle;\n",
       "    }\n",
       "\n",
       "    .dataframe tbody tr th {\n",
       "        vertical-align: top;\n",
       "    }\n",
       "\n",
       "    .dataframe thead th {\n",
       "        text-align: right;\n",
       "    }\n",
       "</style>\n",
       "<table border=\"1\" class=\"dataframe\">\n",
       "  <thead>\n",
       "    <tr style=\"text-align: right;\">\n",
       "      <th></th>\n",
       "      <th>nb_commandes</th>\n",
       "      <th>score_moy</th>\n",
       "      <th>nb_paiements</th>\n",
       "      <th>nb_produits</th>\n",
       "      <th>recence</th>\n",
       "      <th>montant_total</th>\n",
       "      <th>frequence_achat</th>\n",
       "    </tr>\n",
       "    <tr>\n",
       "      <th>customer_unique_id</th>\n",
       "      <th></th>\n",
       "      <th></th>\n",
       "      <th></th>\n",
       "      <th></th>\n",
       "      <th></th>\n",
       "      <th></th>\n",
       "      <th></th>\n",
       "    </tr>\n",
       "  </thead>\n",
       "  <tbody>\n",
       "    <tr>\n",
       "      <th>0000f46a3911fa3c0805444483337064</th>\n",
       "      <td>-0.381423</td>\n",
       "      <td>-0.864047</td>\n",
       "      <td>1.569693</td>\n",
       "      <td>-0.134505</td>\n",
       "      <td>0.883179</td>\n",
       "      <td>-0.325658</td>\n",
       "      <td>-0.381279</td>\n",
       "    </tr>\n",
       "    <tr>\n",
       "      <th>0005e1862207bf6ccc02e4228effd9a0</th>\n",
       "      <td>-0.381423</td>\n",
       "      <td>-0.092883</td>\n",
       "      <td>0.389004</td>\n",
       "      <td>-0.134505</td>\n",
       "      <td>1.014863</td>\n",
       "      <td>0.322142</td>\n",
       "      <td>-0.381279</td>\n",
       "    </tr>\n",
       "    <tr>\n",
       "      <th>00115fc7123b5310cf6d3a3aa932699e</th>\n",
       "      <td>-0.381423</td>\n",
       "      <td>-0.092883</td>\n",
       "      <td>-0.933468</td>\n",
       "      <td>-0.134505</td>\n",
       "      <td>1.936646</td>\n",
       "      <td>-0.471357</td>\n",
       "      <td>-0.381279</td>\n",
       "    </tr>\n",
       "  </tbody>\n",
       "</table>\n",
       "</div>"
      ],
      "text/plain": [
       "                                  nb_commandes  score_moy  nb_paiements  \\\n",
       "customer_unique_id                                                        \n",
       "0000f46a3911fa3c0805444483337064     -0.381423  -0.864047      1.569693   \n",
       "0005e1862207bf6ccc02e4228effd9a0     -0.381423  -0.092883      0.389004   \n",
       "00115fc7123b5310cf6d3a3aa932699e     -0.381423  -0.092883     -0.933468   \n",
       "\n",
       "                                  nb_produits   recence  montant_total  \\\n",
       "customer_unique_id                                                       \n",
       "0000f46a3911fa3c0805444483337064    -0.134505  0.883179      -0.325658   \n",
       "0005e1862207bf6ccc02e4228effd9a0    -0.134505  1.014863       0.322142   \n",
       "00115fc7123b5310cf6d3a3aa932699e    -0.134505  1.936646      -0.471357   \n",
       "\n",
       "                                  frequence_achat  \n",
       "customer_unique_id                                 \n",
       "0000f46a3911fa3c0805444483337064        -0.381279  \n",
       "0005e1862207bf6ccc02e4228effd9a0        -0.381279  \n",
       "00115fc7123b5310cf6d3a3aa932699e        -0.381279  "
      ]
     },
     "execution_count": 49,
     "metadata": {},
     "output_type": "execute_result"
    }
   ],
   "source": [
    "\n",
    "\n",
    "# On standardise nos colonnes\n",
    "cols_to_scale = ['nb_commandes', 'score_moy', 'nb_paiements',\n",
    "                 'nb_produits', 'recence', 'montant_total',\n",
    "                 'frequence_achat']\n",
    "\n",
    "scaler_ini = StandardScaler()\n",
    "\n",
    "df_ini[cols_to_scale] = scaler_ini.fit_transform(df_ini[cols_to_scale])\n",
    "\n",
    "df_ini.head(3)\n",
    "\n"
   ]
  },
  {
   "cell_type": "code",
   "execution_count": 50,
   "metadata": {},
   "outputs": [
    {
     "data": {
      "text/html": [
       "<div>\n",
       "<style scoped>\n",
       "    .dataframe tbody tr th:only-of-type {\n",
       "        vertical-align: middle;\n",
       "    }\n",
       "\n",
       "    .dataframe tbody tr th {\n",
       "        vertical-align: top;\n",
       "    }\n",
       "\n",
       "    .dataframe thead th {\n",
       "        text-align: right;\n",
       "    }\n",
       "</style>\n",
       "<table border=\"1\" class=\"dataframe\">\n",
       "  <thead>\n",
       "    <tr style=\"text-align: right;\">\n",
       "      <th></th>\n",
       "      <th>nb_commandes</th>\n",
       "      <th>score_moy</th>\n",
       "      <th>nb_paiements</th>\n",
       "      <th>nb_produits</th>\n",
       "      <th>recence</th>\n",
       "      <th>montant_total</th>\n",
       "      <th>frequence_achat</th>\n",
       "    </tr>\n",
       "    <tr>\n",
       "      <th>customer_unique_id</th>\n",
       "      <th></th>\n",
       "      <th></th>\n",
       "      <th></th>\n",
       "      <th></th>\n",
       "      <th></th>\n",
       "      <th></th>\n",
       "      <th></th>\n",
       "    </tr>\n",
       "  </thead>\n",
       "  <tbody>\n",
       "    <tr>\n",
       "      <th>0000f46a3911fa3c0805444483337064</th>\n",
       "      <td>1.0</td>\n",
       "      <td>3.0</td>\n",
       "      <td>8.0</td>\n",
       "      <td>1.0</td>\n",
       "      <td>111.0</td>\n",
       "      <td>86.22</td>\n",
       "      <td>0.0057</td>\n",
       "    </tr>\n",
       "    <tr>\n",
       "      <th>0005e1862207bf6ccc02e4228effd9a0</th>\n",
       "      <td>1.0</td>\n",
       "      <td>4.0</td>\n",
       "      <td>3.0</td>\n",
       "      <td>1.0</td>\n",
       "      <td>117.0</td>\n",
       "      <td>150.12</td>\n",
       "      <td>0.0057</td>\n",
       "    </tr>\n",
       "    <tr>\n",
       "      <th>00115fc7123b5310cf6d3a3aa932699e</th>\n",
       "      <td>1.0</td>\n",
       "      <td>4.0</td>\n",
       "      <td>1.0</td>\n",
       "      <td>1.0</td>\n",
       "      <td>159.0</td>\n",
       "      <td>76.11</td>\n",
       "      <td>0.0057</td>\n",
       "    </tr>\n",
       "  </tbody>\n",
       "</table>\n",
       "</div>"
      ],
      "text/plain": [
       "                                  nb_commandes  score_moy  nb_paiements  \\\n",
       "customer_unique_id                                                        \n",
       "0000f46a3911fa3c0805444483337064           1.0        3.0           8.0   \n",
       "0005e1862207bf6ccc02e4228effd9a0           1.0        4.0           3.0   \n",
       "00115fc7123b5310cf6d3a3aa932699e           1.0        4.0           1.0   \n",
       "\n",
       "                                  nb_produits  recence  montant_total  \\\n",
       "customer_unique_id                                                      \n",
       "0000f46a3911fa3c0805444483337064          1.0    111.0          86.22   \n",
       "0005e1862207bf6ccc02e4228effd9a0          1.0    117.0         150.12   \n",
       "00115fc7123b5310cf6d3a3aa932699e          1.0    159.0          76.11   \n",
       "\n",
       "                                  frequence_achat  \n",
       "customer_unique_id                                 \n",
       "0000f46a3911fa3c0805444483337064           0.0057  \n",
       "0005e1862207bf6ccc02e4228effd9a0           0.0057  \n",
       "00115fc7123b5310cf6d3a3aa932699e           0.0057  "
      ]
     },
     "execution_count": 50,
     "metadata": {},
     "output_type": "execute_result"
    }
   ],
   "source": [
    "\n",
    "\n",
    "# On revient sur nos changements pour avoir les bonnes valeurs\n",
    "df = df_ini.copy()\n",
    "\n",
    "df[cols_to_scale] = scaler_ini.inverse_transform(df[cols_to_scale])\n",
    "\n",
    "for col in cols_to_log:\n",
    "    df[col] = transformer_ini.inverse_transform(df[col])\n",
    "\n",
    "df.head(3)\n",
    "\n"
   ]
  },
  {
   "cell_type": "code",
   "execution_count": 52,
   "metadata": {},
   "outputs": [],
   "source": [
    "# On ne garde que les 4 variables que l'on veut\n",
    "df_score = df_ini[['score_moy', 'recence', 'montant_total', 'frequence_achat']]\n",
    "\n",
    "k_means_score = KMeans(n_clusters=5, init='k-means++',  random_state=24)\n"
   ]
  },
  {
   "cell_type": "code",
   "execution_count": 53,
   "metadata": {},
   "outputs": [
    {
     "data": {
      "text/html": [
       "<div>\n",
       "<style scoped>\n",
       "    .dataframe tbody tr th:only-of-type {\n",
       "        vertical-align: middle;\n",
       "    }\n",
       "\n",
       "    .dataframe tbody tr th {\n",
       "        vertical-align: top;\n",
       "    }\n",
       "\n",
       "    .dataframe thead th {\n",
       "        text-align: right;\n",
       "    }\n",
       "</style>\n",
       "<table border=\"1\" class=\"dataframe\">\n",
       "  <thead>\n",
       "    <tr style=\"text-align: right;\">\n",
       "      <th></th>\n",
       "      <th>score_moy</th>\n",
       "      <th>recence</th>\n",
       "      <th>montant_total</th>\n",
       "      <th>frequence_achat</th>\n",
       "    </tr>\n",
       "    <tr>\n",
       "      <th>customer_unique_id</th>\n",
       "      <th></th>\n",
       "      <th></th>\n",
       "      <th></th>\n",
       "      <th></th>\n",
       "    </tr>\n",
       "  </thead>\n",
       "  <tbody>\n",
       "    <tr>\n",
       "      <th>0000f46a3911fa3c0805444483337064</th>\n",
       "      <td>-0.864047</td>\n",
       "      <td>0.883179</td>\n",
       "      <td>-0.325658</td>\n",
       "      <td>-0.381279</td>\n",
       "    </tr>\n",
       "    <tr>\n",
       "      <th>0005e1862207bf6ccc02e4228effd9a0</th>\n",
       "      <td>-0.092883</td>\n",
       "      <td>1.014863</td>\n",
       "      <td>0.322142</td>\n",
       "      <td>-0.381279</td>\n",
       "    </tr>\n",
       "    <tr>\n",
       "      <th>00115fc7123b5310cf6d3a3aa932699e</th>\n",
       "      <td>-0.092883</td>\n",
       "      <td>1.936646</td>\n",
       "      <td>-0.471357</td>\n",
       "      <td>-0.381279</td>\n",
       "    </tr>\n",
       "    <tr>\n",
       "      <th>0011805441c0d1b68b48002f1d005526</th>\n",
       "      <td>-0.864047</td>\n",
       "      <td>-0.104446</td>\n",
       "      <td>1.119745</td>\n",
       "      <td>-0.381279</td>\n",
       "    </tr>\n",
       "    <tr>\n",
       "      <th>0011857aff0e5871ce5eb429f21cdaf5</th>\n",
       "      <td>0.678280</td>\n",
       "      <td>-1.531016</td>\n",
       "      <td>0.614626</td>\n",
       "      <td>-0.381279</td>\n",
       "    </tr>\n",
       "    <tr>\n",
       "      <th>...</th>\n",
       "      <td>...</td>\n",
       "      <td>...</td>\n",
       "      <td>...</td>\n",
       "      <td>...</td>\n",
       "    </tr>\n",
       "    <tr>\n",
       "      <th>ffedff0547d809c90c05c2691c51f9b7</th>\n",
       "      <td>0.678280</td>\n",
       "      <td>0.444235</td>\n",
       "      <td>-1.468295</td>\n",
       "      <td>-0.381279</td>\n",
       "    </tr>\n",
       "    <tr>\n",
       "      <th>ffef0ffa736c7b3d9af741611089729b</th>\n",
       "      <td>0.678280</td>\n",
       "      <td>-0.872599</td>\n",
       "      <td>0.232825</td>\n",
       "      <td>-0.381279</td>\n",
       "    </tr>\n",
       "    <tr>\n",
       "      <th>fffcf5a5ff07b0908bd4e2dbc735a684</th>\n",
       "      <td>0.678280</td>\n",
       "      <td>-1.092071</td>\n",
       "      <td>3.385862</td>\n",
       "      <td>1.668091</td>\n",
       "    </tr>\n",
       "    <tr>\n",
       "      <th>ffff371b4d645b6ecea244b27531430a</th>\n",
       "      <td>0.678280</td>\n",
       "      <td>1.563543</td>\n",
       "      <td>-0.015275</td>\n",
       "      <td>-0.381279</td>\n",
       "    </tr>\n",
       "    <tr>\n",
       "      <th>ffffd2657e2aad2907e67c3e9daecbeb</th>\n",
       "      <td>0.678280</td>\n",
       "      <td>-0.280024</td>\n",
       "      <td>-0.543368</td>\n",
       "      <td>-0.381279</td>\n",
       "    </tr>\n",
       "  </tbody>\n",
       "</table>\n",
       "<p>13558 rows × 4 columns</p>\n",
       "</div>"
      ],
      "text/plain": [
       "                                  score_moy   recence  montant_total  \\\n",
       "customer_unique_id                                                     \n",
       "0000f46a3911fa3c0805444483337064  -0.864047  0.883179      -0.325658   \n",
       "0005e1862207bf6ccc02e4228effd9a0  -0.092883  1.014863       0.322142   \n",
       "00115fc7123b5310cf6d3a3aa932699e  -0.092883  1.936646      -0.471357   \n",
       "0011805441c0d1b68b48002f1d005526  -0.864047 -0.104446       1.119745   \n",
       "0011857aff0e5871ce5eb429f21cdaf5   0.678280 -1.531016       0.614626   \n",
       "...                                     ...       ...            ...   \n",
       "ffedff0547d809c90c05c2691c51f9b7   0.678280  0.444235      -1.468295   \n",
       "ffef0ffa736c7b3d9af741611089729b   0.678280 -0.872599       0.232825   \n",
       "fffcf5a5ff07b0908bd4e2dbc735a684   0.678280 -1.092071       3.385862   \n",
       "ffff371b4d645b6ecea244b27531430a   0.678280  1.563543      -0.015275   \n",
       "ffffd2657e2aad2907e67c3e9daecbeb   0.678280 -0.280024      -0.543368   \n",
       "\n",
       "                                  frequence_achat  \n",
       "customer_unique_id                                 \n",
       "0000f46a3911fa3c0805444483337064        -0.381279  \n",
       "0005e1862207bf6ccc02e4228effd9a0        -0.381279  \n",
       "00115fc7123b5310cf6d3a3aa932699e        -0.381279  \n",
       "0011805441c0d1b68b48002f1d005526        -0.381279  \n",
       "0011857aff0e5871ce5eb429f21cdaf5        -0.381279  \n",
       "...                                           ...  \n",
       "ffedff0547d809c90c05c2691c51f9b7        -0.381279  \n",
       "ffef0ffa736c7b3d9af741611089729b        -0.381279  \n",
       "fffcf5a5ff07b0908bd4e2dbc735a684         1.668091  \n",
       "ffff371b4d645b6ecea244b27531430a        -0.381279  \n",
       "ffffd2657e2aad2907e67c3e9daecbeb        -0.381279  \n",
       "\n",
       "[13558 rows x 4 columns]"
      ]
     },
     "execution_count": 53,
     "metadata": {},
     "output_type": "execute_result"
    }
   ],
   "source": [
    "df_score "
   ]
  },
  {
   "cell_type": "code",
   "execution_count": 54,
   "metadata": {},
   "outputs": [
    {
     "data": {
      "text/plain": [
       "KMeans(n_clusters=5, random_state=24)"
      ]
     },
     "execution_count": 54,
     "metadata": {},
     "output_type": "execute_result"
    }
   ],
   "source": [
    "k_means_score"
   ]
  },
  {
   "cell_type": "code",
   "execution_count": 55,
   "metadata": {},
   "outputs": [],
   "source": [
    "# On crée notre colonne de cluster\n",
    "y = k_means_score.fit_predict(df_score)\n",
    "df['cluster'] = y"
   ]
  },
  {
   "cell_type": "code",
   "execution_count": 1,
   "metadata": {},
   "outputs": [
    {
     "ename": "NameError",
     "evalue": "name 'k_means_score' is not defined",
     "output_type": "error",
     "traceback": [
      "\u001b[0;31m---------------------------------------------------------------------------\u001b[0m",
      "\u001b[0;31mNameError\u001b[0m                                 Traceback (most recent call last)",
      "\u001b[0;32m<ipython-input-1-10c7ca0a6764>\u001b[0m in \u001b[0;36m<module>\u001b[0;34m\u001b[0m\n\u001b[0;32m----> 1\u001b[0;31m \u001b[0mclusters_score\u001b[0m \u001b[0;34m=\u001b[0m \u001b[0mk_means_score\u001b[0m\u001b[0;34m.\u001b[0m\u001b[0mlabels_\u001b[0m\u001b[0;34m\u001b[0m\u001b[0;34m\u001b[0m\u001b[0m\n\u001b[0m",
      "\u001b[0;31mNameError\u001b[0m: name 'k_means_score' is not defined"
     ]
    }
   ],
   "source": [
    "clusters_score = k_means_score.labels_\n"
   ]
  },
  {
   "cell_type": "code",
   "execution_count": 57,
   "metadata": {},
   "outputs": [],
   "source": [
    "# On se place 6 mois avant la dernière date\n",
    "list_of_df_old = []\n",
    "\n",
    "for i in range(0, 196, 7):\n",
    "    list_of_df_old.append(\n",
    "        choix_df(df0, date(2017, 1, 1),\n",
    "                 date_fin=date(2017, 6, 29) + timedelta(days=i)))\n",
    "\n",
    "# On utilise le preprocessing initial\n",
    "for i in range(0, 27):\n",
    "    for col in cols_to_log:\n",
    "        list_of_df_old[i][col] = transformer_ini.transform(\n",
    "            list_of_df_old[i][col])\n",
    "\n",
    "    list_of_df_old[i][cols_to_scale] = scaler_ini.transform(\n",
    "        list_of_df_old[i][cols_to_scale])\n",
    "\n",
    "# On garde RFM + Score\n",
    "    list_of_df_old[i] = list_of_df_old[i].drop(\n",
    "        columns=['nb_commandes', 'nb_paiements', 'nb_produits'])\n",
    "\n",
    "# Clustering avec l'ancien preprocessing\n",
    "    y = k_means_score.predict(list_of_df_old[i])\n",
    "    list_of_df_old[i]['old_cluster'] = y"
   ]
  },
  {
   "cell_type": "code",
   "execution_count": null,
   "metadata": {},
   "outputs": [],
   "source": []
  },
  {
   "cell_type": "code",
   "execution_count": 68,
   "metadata": {},
   "outputs": [
    {
     "data": {
      "text/plain": [
       "28"
      ]
     },
     "execution_count": 68,
     "metadata": {},
     "output_type": "execute_result"
    }
   ],
   "source": [
    "# On vérifie qu'on a bien 28 semaines\n",
    "# (6 mois + la 1ère semaine + les derniers jours)\n",
    "len(list_of_df)"
   ]
  },
  {
   "cell_type": "code",
   "execution_count": 69,
   "metadata": {},
   "outputs": [],
   "source": [
    "\n",
    "\n",
    "# On calcule le score ARI\n",
    "list_ari = []\n",
    "\n",
    "for i in range(0, 27):\n",
    "    list_ari.append(round(adjusted_rand_score(\n",
    "        list_of_df[i]['new_cluster'], list_of_df_old[i]['old_cluster']),\n",
    "                          4))\n",
    "\n"
   ]
  },
  {
   "cell_type": "code",
   "execution_count": 70,
   "metadata": {},
   "outputs": [
    {
     "name": "stdout",
     "output_type": "stream",
     "text": [
      "Les scores diminuent à chaque itération.\n"
     ]
    }
   ],
   "source": [
    "\n",
    "\n",
    "list_ari_sorted = sorted(list_ari, reverse=True)\n",
    "\n",
    "if(set(list_ari) == set(list_ari_sorted)):\n",
    "    print('Les scores diminuent à chaque itération.')\n",
    "else:\n",
    "    print('Les scores ne diminuent pas forcément à chaque itération')\n",
    "\n"
   ]
  },
  {
   "cell_type": "code",
   "execution_count": 71,
   "metadata": {},
   "outputs": [
    {
     "name": "stdout",
     "output_type": "stream",
     "text": [
      "Il faudra mettre à jour le clustering toutes les 3 semaines.\n"
     ]
    }
   ],
   "source": [
    "good_values_ari = []\n",
    "for value in list_ari:\n",
    "    if value >= 0.8:\n",
    "        good_values_ari.append(value)\n",
    "\n",
    "# On enlève 1 car on a notre valeur initiale\n",
    "rythme = len(good_values_ari) - 1\n",
    "\n",
    "# Fréquence de mise à jour :\n",
    "print(f'Il faudra mettre à jour le clustering toutes les {rythme} semaines.')"
   ]
  },
  {
   "cell_type": "code",
   "execution_count": 72,
   "metadata": {},
   "outputs": [
    {
     "data": {
      "text/plain": [
       "'2018-09-03 09:06:57'"
      ]
     },
     "execution_count": 72,
     "metadata": {},
     "output_type": "execute_result"
    }
   ],
   "source": [
    "data['order_purchase_timestamp'].max()"
   ]
  },
  {
   "cell_type": "code",
   "execution_count": 74,
   "metadata": {},
   "outputs": [
    {
     "data": {
      "image/png": "[encoded data removed]",
      "text/plain": [
       "<Figure size 720x576 with 1 Axes>"
      ]
     },
     "metadata": {},
     "output_type": "display_data"
    }
   ],
   "source": [
    "# Graphiquement\n",
    "plt.style.use('seaborn-darkgrid')\n",
    "plt.figure(figsize=(10, 8))\n",
    "plt.plot(list_ari, marker='o')\n",
    "plt.axhline(y=0.8, color='r', linestyle='--')\n",
    "plt.axvline(x=rythme, color='r', linestyle='--')\n",
    "\n",
    "plt.title(\n",
    "    \"Evolution hebdomadaire de l'ARI sur les 6 mois (Janvier à Juin 2018)\",\n",
    "    fontsize=18)\n",
    "plt.xlabel('Nombre de semaines', fontsize=14)\n",
    "plt.ylabel('Adjusted Rand Index Score', fontsize=14)\n",
    "plt.show()"
   ]
  },
  {
   "cell_type": "code",
   "execution_count": null,
   "metadata": {},
   "outputs": [],
   "source": []
  }
 ],
 "metadata": {
  "kernelspec": {
   "display_name": "Python 3",
   "language": "python",
   "name": "python3"
  },
  "language_info": {
   "codemirror_mode": {
    "name": "ipython",
    "version": 3
   },
   "file_extension": ".py",
   "mimetype": "text/x-python",
   "name": "python",
   "nbconvert_exporter": "python",
   "pygments_lexer": "ipython3",
   "version": "3.7.4"
  }
 },
 "nbformat": 4,
 "nbformat_minor": 4
}
